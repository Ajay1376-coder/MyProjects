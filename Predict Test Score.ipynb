{
 "cells": [
  {
   "cell_type": "code",
   "execution_count": 1,
   "metadata": {},
   "outputs": [],
   "source": [
    "import pandas as pd\n",
    "import numpy as np\n",
    "import seaborn as sns\n",
    "sns.set_style('darkgrid')\n",
    "import matplotlib.pyplot as plt"
   ]
  },
  {
   "cell_type": "code",
   "execution_count": 2,
   "metadata": {},
   "outputs": [],
   "source": [
    "data=pd.read_csv(\"C:/Users/AJAY SINGH/Downloads/test_scores.csv\")"
   ]
  },
  {
   "cell_type": "code",
   "execution_count": 3,
   "metadata": {},
   "outputs": [
    {
     "data": {
      "text/html": [
       "<div>\n",
       "<style scoped>\n",
       "    .dataframe tbody tr th:only-of-type {\n",
       "        vertical-align: middle;\n",
       "    }\n",
       "\n",
       "    .dataframe tbody tr th {\n",
       "        vertical-align: top;\n",
       "    }\n",
       "\n",
       "    .dataframe thead th {\n",
       "        text-align: right;\n",
       "    }\n",
       "</style>\n",
       "<table border=\"1\" class=\"dataframe\">\n",
       "  <thead>\n",
       "    <tr style=\"text-align: right;\">\n",
       "      <th></th>\n",
       "      <th>school</th>\n",
       "      <th>school_setting</th>\n",
       "      <th>school_type</th>\n",
       "      <th>classroom</th>\n",
       "      <th>teaching_method</th>\n",
       "      <th>n_student</th>\n",
       "      <th>student_id</th>\n",
       "      <th>gender</th>\n",
       "      <th>lunch</th>\n",
       "      <th>pretest</th>\n",
       "      <th>posttest</th>\n",
       "    </tr>\n",
       "  </thead>\n",
       "  <tbody>\n",
       "    <tr>\n",
       "      <th>0</th>\n",
       "      <td>ANKYI</td>\n",
       "      <td>Urban</td>\n",
       "      <td>Non-public</td>\n",
       "      <td>6OL</td>\n",
       "      <td>Standard</td>\n",
       "      <td>20.0</td>\n",
       "      <td>2FHT3</td>\n",
       "      <td>Female</td>\n",
       "      <td>Does not qualify</td>\n",
       "      <td>62.0</td>\n",
       "      <td>72.0</td>\n",
       "    </tr>\n",
       "    <tr>\n",
       "      <th>1</th>\n",
       "      <td>ANKYI</td>\n",
       "      <td>Urban</td>\n",
       "      <td>Non-public</td>\n",
       "      <td>6OL</td>\n",
       "      <td>Standard</td>\n",
       "      <td>20.0</td>\n",
       "      <td>3JIVH</td>\n",
       "      <td>Female</td>\n",
       "      <td>Does not qualify</td>\n",
       "      <td>66.0</td>\n",
       "      <td>79.0</td>\n",
       "    </tr>\n",
       "    <tr>\n",
       "      <th>2</th>\n",
       "      <td>ANKYI</td>\n",
       "      <td>Urban</td>\n",
       "      <td>Non-public</td>\n",
       "      <td>6OL</td>\n",
       "      <td>Standard</td>\n",
       "      <td>20.0</td>\n",
       "      <td>3XOWE</td>\n",
       "      <td>Male</td>\n",
       "      <td>Does not qualify</td>\n",
       "      <td>64.0</td>\n",
       "      <td>76.0</td>\n",
       "    </tr>\n",
       "    <tr>\n",
       "      <th>3</th>\n",
       "      <td>ANKYI</td>\n",
       "      <td>Urban</td>\n",
       "      <td>Non-public</td>\n",
       "      <td>6OL</td>\n",
       "      <td>Standard</td>\n",
       "      <td>20.0</td>\n",
       "      <td>556O0</td>\n",
       "      <td>Female</td>\n",
       "      <td>Does not qualify</td>\n",
       "      <td>61.0</td>\n",
       "      <td>77.0</td>\n",
       "    </tr>\n",
       "    <tr>\n",
       "      <th>4</th>\n",
       "      <td>ANKYI</td>\n",
       "      <td>Urban</td>\n",
       "      <td>Non-public</td>\n",
       "      <td>6OL</td>\n",
       "      <td>Standard</td>\n",
       "      <td>20.0</td>\n",
       "      <td>74LOE</td>\n",
       "      <td>Male</td>\n",
       "      <td>Does not qualify</td>\n",
       "      <td>64.0</td>\n",
       "      <td>76.0</td>\n",
       "    </tr>\n",
       "    <tr>\n",
       "      <th>5</th>\n",
       "      <td>ANKYI</td>\n",
       "      <td>Urban</td>\n",
       "      <td>Non-public</td>\n",
       "      <td>6OL</td>\n",
       "      <td>Standard</td>\n",
       "      <td>20.0</td>\n",
       "      <td>7YZO8</td>\n",
       "      <td>Female</td>\n",
       "      <td>Does not qualify</td>\n",
       "      <td>66.0</td>\n",
       "      <td>74.0</td>\n",
       "    </tr>\n",
       "    <tr>\n",
       "      <th>6</th>\n",
       "      <td>ANKYI</td>\n",
       "      <td>Urban</td>\n",
       "      <td>Non-public</td>\n",
       "      <td>6OL</td>\n",
       "      <td>Standard</td>\n",
       "      <td>20.0</td>\n",
       "      <td>9KMZD</td>\n",
       "      <td>Male</td>\n",
       "      <td>Does not qualify</td>\n",
       "      <td>63.0</td>\n",
       "      <td>75.0</td>\n",
       "    </tr>\n",
       "    <tr>\n",
       "      <th>7</th>\n",
       "      <td>ANKYI</td>\n",
       "      <td>Urban</td>\n",
       "      <td>Non-public</td>\n",
       "      <td>6OL</td>\n",
       "      <td>Standard</td>\n",
       "      <td>20.0</td>\n",
       "      <td>9USQK</td>\n",
       "      <td>Female</td>\n",
       "      <td>Does not qualify</td>\n",
       "      <td>63.0</td>\n",
       "      <td>72.0</td>\n",
       "    </tr>\n",
       "    <tr>\n",
       "      <th>8</th>\n",
       "      <td>ANKYI</td>\n",
       "      <td>Urban</td>\n",
       "      <td>Non-public</td>\n",
       "      <td>6OL</td>\n",
       "      <td>Standard</td>\n",
       "      <td>20.0</td>\n",
       "      <td>CS5QP</td>\n",
       "      <td>Male</td>\n",
       "      <td>Does not qualify</td>\n",
       "      <td>64.0</td>\n",
       "      <td>77.0</td>\n",
       "    </tr>\n",
       "    <tr>\n",
       "      <th>9</th>\n",
       "      <td>ANKYI</td>\n",
       "      <td>Urban</td>\n",
       "      <td>Non-public</td>\n",
       "      <td>6OL</td>\n",
       "      <td>Standard</td>\n",
       "      <td>20.0</td>\n",
       "      <td>D6HT8</td>\n",
       "      <td>Female</td>\n",
       "      <td>Does not qualify</td>\n",
       "      <td>61.0</td>\n",
       "      <td>72.0</td>\n",
       "    </tr>\n",
       "  </tbody>\n",
       "</table>\n",
       "</div>"
      ],
      "text/plain": [
       "  school school_setting school_type classroom teaching_method  n_student  \\\n",
       "0  ANKYI          Urban  Non-public       6OL        Standard       20.0   \n",
       "1  ANKYI          Urban  Non-public       6OL        Standard       20.0   \n",
       "2  ANKYI          Urban  Non-public       6OL        Standard       20.0   \n",
       "3  ANKYI          Urban  Non-public       6OL        Standard       20.0   \n",
       "4  ANKYI          Urban  Non-public       6OL        Standard       20.0   \n",
       "5  ANKYI          Urban  Non-public       6OL        Standard       20.0   \n",
       "6  ANKYI          Urban  Non-public       6OL        Standard       20.0   \n",
       "7  ANKYI          Urban  Non-public       6OL        Standard       20.0   \n",
       "8  ANKYI          Urban  Non-public       6OL        Standard       20.0   \n",
       "9  ANKYI          Urban  Non-public       6OL        Standard       20.0   \n",
       "\n",
       "  student_id  gender             lunch  pretest  posttest  \n",
       "0      2FHT3  Female  Does not qualify     62.0      72.0  \n",
       "1      3JIVH  Female  Does not qualify     66.0      79.0  \n",
       "2      3XOWE    Male  Does not qualify     64.0      76.0  \n",
       "3      556O0  Female  Does not qualify     61.0      77.0  \n",
       "4      74LOE    Male  Does not qualify     64.0      76.0  \n",
       "5      7YZO8  Female  Does not qualify     66.0      74.0  \n",
       "6      9KMZD    Male  Does not qualify     63.0      75.0  \n",
       "7      9USQK  Female  Does not qualify     63.0      72.0  \n",
       "8      CS5QP    Male  Does not qualify     64.0      77.0  \n",
       "9      D6HT8  Female  Does not qualify     61.0      72.0  "
      ]
     },
     "execution_count": 3,
     "metadata": {},
     "output_type": "execute_result"
    }
   ],
   "source": [
    "data.head(10)"
   ]
  },
  {
   "cell_type": "code",
   "execution_count": 4,
   "metadata": {},
   "outputs": [
    {
     "name": "stdout",
     "output_type": "stream",
     "text": [
      "<class 'pandas.core.frame.DataFrame'>\n",
      "RangeIndex: 2133 entries, 0 to 2132\n",
      "Data columns (total 11 columns):\n",
      " #   Column           Non-Null Count  Dtype  \n",
      "---  ------           --------------  -----  \n",
      " 0   school           2133 non-null   object \n",
      " 1   school_setting   2133 non-null   object \n",
      " 2   school_type      2133 non-null   object \n",
      " 3   classroom        2133 non-null   object \n",
      " 4   teaching_method  2133 non-null   object \n",
      " 5   n_student        2133 non-null   float64\n",
      " 6   student_id       2133 non-null   object \n",
      " 7   gender           2133 non-null   object \n",
      " 8   lunch            2133 non-null   object \n",
      " 9   pretest          2133 non-null   float64\n",
      " 10  posttest         2133 non-null   float64\n",
      "dtypes: float64(3), object(8)\n",
      "memory usage: 183.4+ KB\n"
     ]
    }
   ],
   "source": [
    "data.info()"
   ]
  },
  {
   "cell_type": "code",
   "execution_count": 5,
   "metadata": {},
   "outputs": [
    {
     "data": {
      "text/html": [
       "<div>\n",
       "<style scoped>\n",
       "    .dataframe tbody tr th:only-of-type {\n",
       "        vertical-align: middle;\n",
       "    }\n",
       "\n",
       "    .dataframe tbody tr th {\n",
       "        vertical-align: top;\n",
       "    }\n",
       "\n",
       "    .dataframe thead th {\n",
       "        text-align: right;\n",
       "    }\n",
       "</style>\n",
       "<table border=\"1\" class=\"dataframe\">\n",
       "  <thead>\n",
       "    <tr style=\"text-align: right;\">\n",
       "      <th></th>\n",
       "      <th>n_student</th>\n",
       "      <th>pretest</th>\n",
       "      <th>posttest</th>\n",
       "    </tr>\n",
       "  </thead>\n",
       "  <tbody>\n",
       "    <tr>\n",
       "      <th>count</th>\n",
       "      <td>2133.000000</td>\n",
       "      <td>2133.000000</td>\n",
       "      <td>2133.000000</td>\n",
       "    </tr>\n",
       "    <tr>\n",
       "      <th>mean</th>\n",
       "      <td>22.796531</td>\n",
       "      <td>54.955931</td>\n",
       "      <td>67.102203</td>\n",
       "    </tr>\n",
       "    <tr>\n",
       "      <th>std</th>\n",
       "      <td>4.228893</td>\n",
       "      <td>13.563101</td>\n",
       "      <td>13.986789</td>\n",
       "    </tr>\n",
       "    <tr>\n",
       "      <th>min</th>\n",
       "      <td>14.000000</td>\n",
       "      <td>22.000000</td>\n",
       "      <td>32.000000</td>\n",
       "    </tr>\n",
       "    <tr>\n",
       "      <th>25%</th>\n",
       "      <td>20.000000</td>\n",
       "      <td>44.000000</td>\n",
       "      <td>56.000000</td>\n",
       "    </tr>\n",
       "    <tr>\n",
       "      <th>50%</th>\n",
       "      <td>22.000000</td>\n",
       "      <td>56.000000</td>\n",
       "      <td>68.000000</td>\n",
       "    </tr>\n",
       "    <tr>\n",
       "      <th>75%</th>\n",
       "      <td>27.000000</td>\n",
       "      <td>65.000000</td>\n",
       "      <td>77.000000</td>\n",
       "    </tr>\n",
       "    <tr>\n",
       "      <th>max</th>\n",
       "      <td>31.000000</td>\n",
       "      <td>93.000000</td>\n",
       "      <td>100.000000</td>\n",
       "    </tr>\n",
       "  </tbody>\n",
       "</table>\n",
       "</div>"
      ],
      "text/plain": [
       "         n_student      pretest     posttest\n",
       "count  2133.000000  2133.000000  2133.000000\n",
       "mean     22.796531    54.955931    67.102203\n",
       "std       4.228893    13.563101    13.986789\n",
       "min      14.000000    22.000000    32.000000\n",
       "25%      20.000000    44.000000    56.000000\n",
       "50%      22.000000    56.000000    68.000000\n",
       "75%      27.000000    65.000000    77.000000\n",
       "max      31.000000    93.000000   100.000000"
      ]
     },
     "execution_count": 5,
     "metadata": {},
     "output_type": "execute_result"
    }
   ],
   "source": [
    "data.describe()"
   ]
  },
  {
   "cell_type": "code",
   "execution_count": 6,
   "metadata": {},
   "outputs": [
    {
     "data": {
      "text/plain": [
       "0"
      ]
     },
     "execution_count": 6,
     "metadata": {},
     "output_type": "execute_result"
    }
   ],
   "source": [
    "data.duplicated().sum()"
   ]
  },
  {
   "cell_type": "code",
   "execution_count": 7,
   "metadata": {},
   "outputs": [
    {
     "data": {
      "text/plain": [
       "school             0\n",
       "school_setting     0\n",
       "school_type        0\n",
       "classroom          0\n",
       "teaching_method    0\n",
       "n_student          0\n",
       "student_id         0\n",
       "gender             0\n",
       "lunch              0\n",
       "pretest            0\n",
       "posttest           0\n",
       "dtype: int64"
      ]
     },
     "execution_count": 7,
     "metadata": {},
     "output_type": "execute_result"
    }
   ],
   "source": [
    "data.isnull().sum()"
   ]
  },
  {
   "cell_type": "code",
   "execution_count": 8,
   "metadata": {},
   "outputs": [
    {
     "data": {
      "text/plain": [
       "GOOBU    158\n",
       "QOQTS    149\n",
       "UKPGS    128\n",
       "DNQDD    122\n",
       "GJJHK    118\n",
       "ZOWMK    117\n",
       "VVTVA    114\n",
       "KZKKE    111\n",
       "CCAAW    109\n",
       "CUQAM    107\n",
       "VKWQH    100\n",
       "IDGFP     94\n",
       "UAGPU     87\n",
       "UUUQX     84\n",
       "OJOBU     81\n",
       "CIMBB     74\n",
       "ZMNYA     69\n",
       "GOKXL     64\n",
       "LAYPA     57\n",
       "KFZMY     52\n",
       "VHDHF     51\n",
       "FBUMG     46\n",
       "ANKYI     41\n",
       "Name: school, dtype: int64"
      ]
     },
     "execution_count": 8,
     "metadata": {},
     "output_type": "execute_result"
    }
   ],
   "source": [
    "data['school'].value_counts()"
   ]
  },
  {
   "cell_type": "code",
   "execution_count": 9,
   "metadata": {},
   "outputs": [
    {
     "data": {
      "text/plain": [
       "Urban       906\n",
       "Suburban    717\n",
       "Rural       510\n",
       "Name: school_setting, dtype: int64"
      ]
     },
     "execution_count": 9,
     "metadata": {},
     "output_type": "execute_result"
    }
   ],
   "source": [
    "data['school_setting'].value_counts()"
   ]
  },
  {
   "cell_type": "code",
   "execution_count": 10,
   "metadata": {},
   "outputs": [
    {
     "data": {
      "text/plain": [
       "Public        1582\n",
       "Non-public     551\n",
       "Name: school_type, dtype: int64"
      ]
     },
     "execution_count": 10,
     "metadata": {},
     "output_type": "execute_result"
    }
   ],
   "source": [
    "data['school_type'].value_counts()"
   ]
  },
  {
   "cell_type": "code",
   "execution_count": 11,
   "metadata": {},
   "outputs": [
    {
     "data": {
      "text/plain": [
       "18K    31\n",
       "QA2    30\n",
       "YTB    30\n",
       "ZBH    30\n",
       "Q0E    30\n",
       "       ..\n",
       "SSP    15\n",
       "IQN    15\n",
       "KR1    15\n",
       "JGD    14\n",
       "197    14\n",
       "Name: classroom, Length: 97, dtype: int64"
      ]
     },
     "execution_count": 11,
     "metadata": {},
     "output_type": "execute_result"
    }
   ],
   "source": [
    "data['classroom'].value_counts()"
   ]
  },
  {
   "cell_type": "code",
   "execution_count": 12,
   "metadata": {},
   "outputs": [],
   "source": [
    "data=data.drop(['classroom','student_id'],axis=1)"
   ]
  },
  {
   "cell_type": "code",
   "execution_count": 13,
   "metadata": {},
   "outputs": [],
   "source": [
    "from sklearn.preprocessing import LabelEncoder"
   ]
  },
  {
   "cell_type": "code",
   "execution_count": 14,
   "metadata": {},
   "outputs": [],
   "source": [
    "le=LabelEncoder()\n",
    "data['school_setting']=le.fit_transform(data['school_setting'])\n",
    "data['school_type']=le.fit_transform(data['school_type'])\n",
    "data['teaching_method']=le.fit_transform(data['teaching_method'])\n",
    "data['teaching_method']=le.fit_transform(data['teaching_method'])\n",
    "data['gender']=le.fit_transform(data['gender'])\n",
    "data['lunch']=le.fit_transform(data['lunch'])\n"
   ]
  },
  {
   "cell_type": "code",
   "execution_count": 15,
   "metadata": {},
   "outputs": [
    {
     "data": {
      "text/html": [
       "<div>\n",
       "<style scoped>\n",
       "    .dataframe tbody tr th:only-of-type {\n",
       "        vertical-align: middle;\n",
       "    }\n",
       "\n",
       "    .dataframe tbody tr th {\n",
       "        vertical-align: top;\n",
       "    }\n",
       "\n",
       "    .dataframe thead th {\n",
       "        text-align: right;\n",
       "    }\n",
       "</style>\n",
       "<table border=\"1\" class=\"dataframe\">\n",
       "  <thead>\n",
       "    <tr style=\"text-align: right;\">\n",
       "      <th></th>\n",
       "      <th>school</th>\n",
       "      <th>school_setting</th>\n",
       "      <th>school_type</th>\n",
       "      <th>teaching_method</th>\n",
       "      <th>n_student</th>\n",
       "      <th>gender</th>\n",
       "      <th>lunch</th>\n",
       "      <th>pretest</th>\n",
       "      <th>posttest</th>\n",
       "    </tr>\n",
       "  </thead>\n",
       "  <tbody>\n",
       "    <tr>\n",
       "      <th>0</th>\n",
       "      <td>ANKYI</td>\n",
       "      <td>2</td>\n",
       "      <td>0</td>\n",
       "      <td>1</td>\n",
       "      <td>20.0</td>\n",
       "      <td>0</td>\n",
       "      <td>0</td>\n",
       "      <td>62.0</td>\n",
       "      <td>72.0</td>\n",
       "    </tr>\n",
       "    <tr>\n",
       "      <th>1</th>\n",
       "      <td>ANKYI</td>\n",
       "      <td>2</td>\n",
       "      <td>0</td>\n",
       "      <td>1</td>\n",
       "      <td>20.0</td>\n",
       "      <td>0</td>\n",
       "      <td>0</td>\n",
       "      <td>66.0</td>\n",
       "      <td>79.0</td>\n",
       "    </tr>\n",
       "    <tr>\n",
       "      <th>2</th>\n",
       "      <td>ANKYI</td>\n",
       "      <td>2</td>\n",
       "      <td>0</td>\n",
       "      <td>1</td>\n",
       "      <td>20.0</td>\n",
       "      <td>1</td>\n",
       "      <td>0</td>\n",
       "      <td>64.0</td>\n",
       "      <td>76.0</td>\n",
       "    </tr>\n",
       "    <tr>\n",
       "      <th>3</th>\n",
       "      <td>ANKYI</td>\n",
       "      <td>2</td>\n",
       "      <td>0</td>\n",
       "      <td>1</td>\n",
       "      <td>20.0</td>\n",
       "      <td>0</td>\n",
       "      <td>0</td>\n",
       "      <td>61.0</td>\n",
       "      <td>77.0</td>\n",
       "    </tr>\n",
       "    <tr>\n",
       "      <th>4</th>\n",
       "      <td>ANKYI</td>\n",
       "      <td>2</td>\n",
       "      <td>0</td>\n",
       "      <td>1</td>\n",
       "      <td>20.0</td>\n",
       "      <td>1</td>\n",
       "      <td>0</td>\n",
       "      <td>64.0</td>\n",
       "      <td>76.0</td>\n",
       "    </tr>\n",
       "    <tr>\n",
       "      <th>...</th>\n",
       "      <td>...</td>\n",
       "      <td>...</td>\n",
       "      <td>...</td>\n",
       "      <td>...</td>\n",
       "      <td>...</td>\n",
       "      <td>...</td>\n",
       "      <td>...</td>\n",
       "      <td>...</td>\n",
       "      <td>...</td>\n",
       "    </tr>\n",
       "    <tr>\n",
       "      <th>2128</th>\n",
       "      <td>ZOWMK</td>\n",
       "      <td>2</td>\n",
       "      <td>1</td>\n",
       "      <td>1</td>\n",
       "      <td>30.0</td>\n",
       "      <td>0</td>\n",
       "      <td>0</td>\n",
       "      <td>39.0</td>\n",
       "      <td>55.0</td>\n",
       "    </tr>\n",
       "    <tr>\n",
       "      <th>2129</th>\n",
       "      <td>ZOWMK</td>\n",
       "      <td>2</td>\n",
       "      <td>1</td>\n",
       "      <td>1</td>\n",
       "      <td>30.0</td>\n",
       "      <td>0</td>\n",
       "      <td>1</td>\n",
       "      <td>38.0</td>\n",
       "      <td>46.0</td>\n",
       "    </tr>\n",
       "    <tr>\n",
       "      <th>2130</th>\n",
       "      <td>ZOWMK</td>\n",
       "      <td>2</td>\n",
       "      <td>1</td>\n",
       "      <td>1</td>\n",
       "      <td>30.0</td>\n",
       "      <td>0</td>\n",
       "      <td>1</td>\n",
       "      <td>45.0</td>\n",
       "      <td>51.0</td>\n",
       "    </tr>\n",
       "    <tr>\n",
       "      <th>2131</th>\n",
       "      <td>ZOWMK</td>\n",
       "      <td>2</td>\n",
       "      <td>1</td>\n",
       "      <td>1</td>\n",
       "      <td>30.0</td>\n",
       "      <td>1</td>\n",
       "      <td>1</td>\n",
       "      <td>46.0</td>\n",
       "      <td>53.0</td>\n",
       "    </tr>\n",
       "    <tr>\n",
       "      <th>2132</th>\n",
       "      <td>ZOWMK</td>\n",
       "      <td>2</td>\n",
       "      <td>1</td>\n",
       "      <td>1</td>\n",
       "      <td>30.0</td>\n",
       "      <td>1</td>\n",
       "      <td>1</td>\n",
       "      <td>41.0</td>\n",
       "      <td>48.0</td>\n",
       "    </tr>\n",
       "  </tbody>\n",
       "</table>\n",
       "<p>2133 rows × 9 columns</p>\n",
       "</div>"
      ],
      "text/plain": [
       "     school  school_setting  school_type  teaching_method  n_student  gender  \\\n",
       "0     ANKYI               2            0                1       20.0       0   \n",
       "1     ANKYI               2            0                1       20.0       0   \n",
       "2     ANKYI               2            0                1       20.0       1   \n",
       "3     ANKYI               2            0                1       20.0       0   \n",
       "4     ANKYI               2            0                1       20.0       1   \n",
       "...     ...             ...          ...              ...        ...     ...   \n",
       "2128  ZOWMK               2            1                1       30.0       0   \n",
       "2129  ZOWMK               2            1                1       30.0       0   \n",
       "2130  ZOWMK               2            1                1       30.0       0   \n",
       "2131  ZOWMK               2            1                1       30.0       1   \n",
       "2132  ZOWMK               2            1                1       30.0       1   \n",
       "\n",
       "      lunch  pretest  posttest  \n",
       "0         0     62.0      72.0  \n",
       "1         0     66.0      79.0  \n",
       "2         0     64.0      76.0  \n",
       "3         0     61.0      77.0  \n",
       "4         0     64.0      76.0  \n",
       "...     ...      ...       ...  \n",
       "2128      0     39.0      55.0  \n",
       "2129      1     38.0      46.0  \n",
       "2130      1     45.0      51.0  \n",
       "2131      1     46.0      53.0  \n",
       "2132      1     41.0      48.0  \n",
       "\n",
       "[2133 rows x 9 columns]"
      ]
     },
     "execution_count": 15,
     "metadata": {},
     "output_type": "execute_result"
    }
   ],
   "source": [
    "data"
   ]
  },
  {
   "cell_type": "code",
   "execution_count": 16,
   "metadata": {},
   "outputs": [
    {
     "data": {
      "text/plain": [
       "2    906\n",
       "1    717\n",
       "0    510\n",
       "Name: school_setting, dtype: int64"
      ]
     },
     "execution_count": 16,
     "metadata": {},
     "output_type": "execute_result"
    }
   ],
   "source": [
    "data['school_setting'].value_counts()"
   ]
  },
  {
   "cell_type": "code",
   "execution_count": 17,
   "metadata": {},
   "outputs": [
    {
     "data": {
      "text/plain": [
       "93.0"
      ]
     },
     "execution_count": 17,
     "metadata": {},
     "output_type": "execute_result"
    }
   ],
   "source": [
    "np.max(data['pretest'])"
   ]
  },
  {
   "cell_type": "code",
   "execution_count": 18,
   "metadata": {},
   "outputs": [
    {
     "data": {
      "text/plain": [
       "100.0"
      ]
     },
     "execution_count": 18,
     "metadata": {},
     "output_type": "execute_result"
    }
   ],
   "source": [
    "np.max(data['posttest'])"
   ]
  },
  {
   "cell_type": "code",
   "execution_count": 20,
   "metadata": {},
   "outputs": [
    {
     "data": {
      "text/plain": [
       "(54.95593061415846, 67.10220346929208)"
      ]
     },
     "execution_count": 20,
     "metadata": {},
     "output_type": "execute_result"
    }
   ],
   "source": [
    "np.average(data['pretest']),np.average(data['posttest'])"
   ]
  },
  {
   "cell_type": "code",
   "execution_count": 25,
   "metadata": {
    "collapsed": true
   },
   "outputs": [
    {
     "data": {
      "text/plain": [
       "<matplotlib.axes._subplots.AxesSubplot at 0x17363fd1430>"
      ]
     },
     "execution_count": 25,
     "metadata": {},
     "output_type": "execute_result"
    },
    {
     "data": {
      "image/png": "[encoded data removed]",
      "text/plain": [
       "<Figure size 432x288 with 1 Axes>"
      ]
     },
     "metadata": {},
     "output_type": "display_data"
    }
   ],
   "source": [
    "sns.distplot(data['pretest'],color='g')\n",
    "sns.distplot(data['posttest'],color='r')"
   ]
  },
  {
   "cell_type": "code",
   "execution_count": 41,
   "metadata": {
    "collapsed": true
   },
   "outputs": [
    {
     "data": {
      "text/plain": [
       "<matplotlib.axes._subplots.AxesSubplot at 0x17364ab1fa0>"
      ]
     },
     "execution_count": 41,
     "metadata": {},
     "output_type": "execute_result"
    },
    {
     "data": {
      "image/png": "[encoded data removed]",
      "text/plain": [
       "<Figure size 1080x504 with 1 Axes>"
      ]
     },
     "metadata": {},
     "output_type": "display_data"
    },
    {
     "data": {
      "image/png": "[encoded data removed]",
      "text/plain": [
       "<Figure size 1080x504 with 1 Axes>"
      ]
     },
     "metadata": {},
     "output_type": "display_data"
    }
   ],
   "source": [
    "plt.figure(figsize=(15,7))\n",
    "sns.barplot(x='school',y='pretest',data=data,ci=None)\n",
    "plt.figure(figsize=(15,7))\n",
    "sns.barplot(x='school',y='posttest',data=data,ci=None)"
   ]
  },
  {
   "cell_type": "code",
   "execution_count": 44,
   "metadata": {
    "collapsed": true
   },
   "outputs": [
    {
     "data": {
      "text/plain": [
       "<matplotlib.axes._subplots.AxesSubplot at 0x1736551e130>"
      ]
     },
     "execution_count": 44,
     "metadata": {},
     "output_type": "execute_result"
    },
    {
     "data": {
      "image/png": "[encoded data removed]",
      "text/plain": [
       "<Figure size 1080x504 with 1 Axes>"
      ]
     },
     "metadata": {},
     "output_type": "display_data"
    }
   ],
   "source": [
    "plt.figure(figsize=(15,7))\n",
    "sns.countplot(data['gender'],hue=data['school'])"
   ]
  },
  {
   "cell_type": "code",
   "execution_count": 45,
   "metadata": {
    "collapsed": true
   },
   "outputs": [
    {
     "data": {
      "text/plain": [
       "<matplotlib.axes._subplots.AxesSubplot at 0x173668b8460>"
      ]
     },
     "execution_count": 45,
     "metadata": {},
     "output_type": "execute_result"
    },
    {
     "data": {
      "image/png": "[encoded data removed]",
      "text/plain": [
       "<Figure size 432x288 with 1 Axes>"
      ]
     },
     "metadata": {},
     "output_type": "display_data"
    }
   ],
   "source": [
    "sns.boxplot(data['pretest'])"
   ]
  },
  {
   "cell_type": "code",
   "execution_count": 46,
   "metadata": {
    "collapsed": true
   },
   "outputs": [
    {
     "data": {
      "text/plain": [
       "<matplotlib.axes._subplots.AxesSubplot at 0x1736691c790>"
      ]
     },
     "execution_count": 46,
     "metadata": {},
     "output_type": "execute_result"
    },
    {
     "data": {
      "image/png": "[encoded data removed]",
      "text/plain": [
       "<Figure size 432x288 with 1 Axes>"
      ]
     },
     "metadata": {},
     "output_type": "display_data"
    }
   ],
   "source": [
    "sns.boxplot(data['posttest'])"
   ]
  },
  {
   "cell_type": "code",
   "execution_count": 49,
   "metadata": {},
   "outputs": [
    {
     "data": {
      "text/plain": [
       "<matplotlib.axes._subplots.AxesSubplot at 0x17367d951c0>"
      ]
     },
     "execution_count": 49,
     "metadata": {},
     "output_type": "execute_result"
    },
    {
     "data": {
      "image/png": "[encoded data removed]",
      "text/plain": [
       "<Figure size 432x288 with 2 Axes>"
      ]
     },
     "metadata": {},
     "output_type": "display_data"
    }
   ],
   "source": [
    "sns.heatmap(data.corr(),annot=True)"
   ]
  },
  {
   "cell_type": "markdown",
   "metadata": {},
   "source": [
    "## Model Building"
   ]
  },
  {
   "cell_type": "code",
   "execution_count": 48,
   "metadata": {},
   "outputs": [],
   "source": [
    "from sklearn.linear_model import LinearRegression,Ridge,Lasso\n",
    "from sklearn.model_selection import train_test_split,cross_val_score\n",
    "from sklearn.metrics import mean_absolute_error,r2_score,mean_squared_error"
   ]
  },
  {
   "cell_type": "code",
   "execution_count": 52,
   "metadata": {},
   "outputs": [
    {
     "data": {
      "text/plain": [
       "Index(['school', 'school_setting', 'school_type', 'teaching_method',\n",
       "       'n_student', 'gender', 'lunch', 'pretest', 'posttest'],\n",
       "      dtype='object')"
      ]
     },
     "execution_count": 52,
     "metadata": {},
     "output_type": "execute_result"
    }
   ],
   "source": [
    "data.columns\n"
   ]
  },
  {
   "cell_type": "code",
   "execution_count": 53,
   "metadata": {},
   "outputs": [],
   "source": [
    "X=data[['school_setting', 'school_type', 'teaching_method','n_student', 'gender', 'lunch', 'pretest']]\n",
    "y=data['posttest']"
   ]
  },
  {
   "cell_type": "code",
   "execution_count": 55,
   "metadata": {},
   "outputs": [],
   "source": [
    "lr=LinearRegression()"
   ]
  },
  {
   "cell_type": "code",
   "execution_count": 56,
   "metadata": {},
   "outputs": [],
   "source": [
    "X_train, X_test, y_train, y_test = train_test_split(X, y, test_size=0.3, random_state=2)"
   ]
  },
  {
   "cell_type": "code",
   "execution_count": 57,
   "metadata": {},
   "outputs": [],
   "source": [
    "model1=lr.fit(X_train,y_train)"
   ]
  },
  {
   "cell_type": "code",
   "execution_count": 58,
   "metadata": {},
   "outputs": [],
   "source": [
    "y_pred=model1.predict(X_test)"
   ]
  },
  {
   "cell_type": "code",
   "execution_count": 59,
   "metadata": {
    "collapsed": true
   },
   "outputs": [
    {
     "data": {
      "text/plain": [
       "array([ 64.93344246,  40.65665302,  53.91334735,  56.37818875,\n",
       "        82.87619628,  52.33966195,  46.94725605,  56.02299747,\n",
       "        68.25396981,  62.99382837,  60.31250258,  66.54733276,\n",
       "        86.96898731,  59.51356085,  50.04178031,  59.41842503,\n",
       "        78.95473932,  51.42576984,  70.02450189,  60.42745296,\n",
       "        89.52368754,  44.8147151 ,  79.32269189,  58.33575985,\n",
       "        45.81687955,  84.75286937,  52.74599693,  83.83817796,\n",
       "        44.14721641,  92.87558828,  69.61642569,  82.881392  ,\n",
       "        74.56826296,  67.94230535,  69.40805857,  91.48701388,\n",
       "        86.01678623,  71.22458288,  87.46912306,  75.62593998,\n",
       "        72.97659842,  56.47534683,  55.21068362,  52.64430821,\n",
       "        48.97434482,  83.16760301,  75.66086789,  69.62590014,\n",
       "        79.47082897,  46.86927958,  55.21068362,  57.74302878,\n",
       "        72.96832644,  41.55405249,  85.09259825,  91.30371618,\n",
       "        74.41162119,  69.46954239,  53.56849619,  93.87009159,\n",
       "        75.66086789,  49.20883047,  56.15136424,  54.21633503,\n",
       "        49.91653406,  87.89317529,  81.48708448,  69.96194193,\n",
       "        49.51875373,  73.10478835,  60.59359131,  85.09259825,\n",
       "        90.63772611,  40.62986451,  40.3087256 ,  67.189378  ,\n",
       "        60.34568927,  85.18383639,  50.24796884,  75.16155356,\n",
       "        51.54072022,  59.64192762,  78.60469244,  55.64677292,\n",
       "        54.86890872,  88.39331104,  55.66016717,  88.2878351 ,\n",
       "        71.07769958,  58.4327311 ,  72.66872118,  71.5426234 ,\n",
       "        80.33811801,  85.09259825,  81.27260185,  73.32657186,\n",
       "        46.02306807,  69.67573092,  96.82595322,  90.35663738,\n",
       "        84.20981763,  48.795632  ,  72.1073635 ,  83.63198944,\n",
       "        81.28089596,  63.80306596,  77.94751174,  88.78935016,\n",
       "        68.74206849,  74.84991122,  62.87887798,  66.3423467 ,\n",
       "        88.99553868,  54.59437289,  62.99382837,  79.54227467,\n",
       "        83.63198944,  59.84503989,  62.87887798,  44.35340493,\n",
       "        54.34075986,  61.0503166 ,  70.59991889,  49.90887292,\n",
       "        79.18464009,  67.47152074,  64.5885913 ,  70.3456408 ,\n",
       "        79.4708511 ,  79.89744383,  62.82379234,  76.09913579,\n",
       "        60.70085843,  49.51875373,  55.36191909,  75.64747363,\n",
       "        90.49447859,  59.38521621,  39.2726635 ,  50.70777038,\n",
       "        62.06964039,  65.65144191,  43.89360338,  76.61826469,\n",
       "        80.57629076,  84.6230161 ,  54.13457134,  50.64913023,\n",
       "        87.68698676,  89.36410209,  81.52541558,  49.11759233,\n",
       "        85.82693563,  50.50158186,  71.25643452,  80.25635431,\n",
       "        66.32774998,  49.11759233,  61.23359217,  64.0061561 ,\n",
       "        82.77464015,  91.86151935,  50.60623638,  46.06004199,\n",
       "        73.90590867,  64.0061561 ,  61.23359217,  80.9262642 ,\n",
       "        80.15172192,  69.33479957,  87.14716273,  62.85058085,\n",
       "        93.59358774,  46.02306807,  76.90447569,  89.89683583,\n",
       "        63.08506651,  74.51709713,  66.12586231,  48.795632  ,\n",
       "        49.20883047,  83.13047438,  78.26045212,  57.17710835,\n",
       "        88.99553868,  63.80306596,  66.63375343,  77.33106842,\n",
       "        71.64297707,  81.17106785,  58.84218661,  62.87887798,\n",
       "        88.35756171,  69.30650243,  76.38836391,  72.8749097 ,\n",
       "        58.41933685,  78.60469244,  78.87169972,  69.37620693,\n",
       "        63.04027673,  60.30940419,  58.2911248 ,  61.94129575,\n",
       "        93.79977626,  54.75395833,  53.49067444,  75.77581827,\n",
       "        68.4757312 ,  69.34819382,  62.16087853,  80.57629076,\n",
       "        63.92441453,  71.16517426,  80.35670798,  72.71532425,\n",
       "        75.81358985,  62.49231331,  74.64544177,  56.4873839 ,\n",
       "        52.4649082 ,  55.06388159,  59.24791076,  78.77654177,\n",
       "        55.72474939,  51.63195836,  59.058671  ,  71.45448365,\n",
       "        80.22834121,  52.90558238,  54.5298128 ,  77.62247515,\n",
       "        54.75395833,  60.03781203,  54.19833377,  70.12605802,\n",
       "        92.41120186,  95.18376579,  68.98536352,  66.98490855,\n",
       "        90.17333968,  49.78358241,  80.98777015,  52.43811969,\n",
       "        50.24796884,  70.8861299 ,  53.56849619,  51.56819593,\n",
       "        79.35761979,  50.50158186,  73.18278694,  74.95144522,\n",
       "        69.7557534 ,  52.95218546,  78.58615378,  88.99553868,\n",
       "        59.84503989,  78.26045212,  58.85248247,  56.37816663,\n",
       "        70.2723818 ,  74.73667991,  52.74599693,  78.31848143,\n",
       "        83.84207565,  44.35340493,  49.51363146,  69.34819382,\n",
       "        40.4504645 ,  79.07788824,  50.64400796,  87.51572614,\n",
       "        42.96941541,  61.92329449,  54.62102881,  44.92966549,\n",
       "        72.37354935,  74.31518733,  80.13192948,  52.27589952,\n",
       "        51.63195836,  52.29131766,  49.51363146,  59.12704043,\n",
       "        57.19334628,  67.49981787,  71.38936404,  80.57629076,\n",
       "        58.20285246,  65.50509601,  41.23291358,  66.57562989,\n",
       "        68.74206849,  72.68211543,  69.17815779,  47.6652555 ,\n",
       "        43.08128953,  50.24796884,  60.28110706,  45.09888009,\n",
       "        59.24791076,  73.9652139 ,  47.87144403,  50.21659544,\n",
       "        82.85767975,  74.37669329,  63.54486806,  76.65995607,\n",
       "        87.32874135,  62.49231331,  58.58937288,  73.59290915,\n",
       "        72.29383168,  79.34558272,  58.21314832,  81.37725637,\n",
       "        77.79033257,  70.32410715,  51.56819593,  56.8188408 ,\n",
       "        60.05122841,  83.53043331,  92.66939976,  72.77335357,\n",
       "        68.17612593,  93.61647857,  57.99974019,  61.23669055,\n",
       "        93.87009159,  75.44128511,  60.77230412,  66.89369254,\n",
       "        70.87151105,  50.82272077,  50.8510179 ,  70.02450189,\n",
       "        64.67216829,  57.53684026,  73.87399789,  60.79601638,\n",
       "        53.84008835,  79.33608615,  76.09521598,  48.39959288,\n",
       "        41.34786397,  80.39503908,  46.80482995,  67.49981787,\n",
       "        75.66086789,  44.09671565,  43.17252767,  50.64400796,\n",
       "        70.31898488,  74.31518733,  65.60975053,  76.40688044,\n",
       "        53.60562482,  68.39261033,  82.81243385,  80.03986992,\n",
       "        61.19190078,  69.43174869,  75.67254306,  72.66872118,\n",
       "        77.27760186,  77.13435434,  93.61647857,  78.75285165,\n",
       "        89.36410209,  68.11356597,  62.99382837,  48.58944348,\n",
       "        37.53616167,  76.00397784,  87.95640032,  53.51354314,\n",
       "        80.35151226,  74.51709713,  63.41650128,  50.83306089,\n",
       "        72.68211543,  61.49030358,  58.31778072,  56.60233429,\n",
       "        69.9095515 ,  43.42921696,  65.85763044,  77.58414405,\n",
       "        64.77897929,  69.94732308,  45.81687955,  86.54493508,\n",
       "        88.43991412,  81.50047874,  72.64500893,  71.33953327,\n",
       "        76.70000625,  74.82497438,  55.02098774,  53.61328596,\n",
       "        44.35340493,  69.55438235,  73.90590867,  57.18740422,\n",
       "        86.94097421,  69.39464218,  49.71034553,  54.34075986,\n",
       "        68.17612593,  71.22458288,  78.40797836,  57.69012174,\n",
       "        56.64893736,  90.35663738,  59.89930411,  65.10531392,\n",
       "        78.72791481,  42.39007859,  69.94732308,  72.26889484,\n",
       "        78.37996526,  58.46102823,  63.20001689,  62.06964039,\n",
       "        63.99586023,  62.06964039,  55.55553478,  63.80306596,\n",
       "        54.75395833,  63.28815664,  56.94718545,  46.45997879,\n",
       "        55.23747213,  74.90794053,  59.64192762,  58.7955614 ,\n",
       "        75.81358985,  69.3947969 ,  69.17815779,  85.02937322,\n",
       "        59.59140473,  60.17209873,  87.86516218,  72.18197968,\n",
       "        49.72494225, 102.48738865,  62.15778014,  51.66025549,\n",
       "        68.63019437,  79.51034176,  50.13301845,  65.13481352,\n",
       "        77.68050446,  73.18790922,  74.72328565,  64.69585842,\n",
       "        64.46905603,  91.30371618,  58.12957133,  81.03301605,\n",
       "        93.79977626,  77.31255189,  77.1248799 ,  52.49750619,\n",
       "        73.92744232,  54.62102881,  89.17883638,  47.15426599,\n",
       "        78.34219368,  61.69341584,  76.09913579,  66.32774998,\n",
       "        69.40631736,  61.97450457,  74.68321335,  58.53428723,\n",
       "        62.03251176,  85.83861081,  53.67018491,  53.21038336,\n",
       "        62.64439233,  60.79601638,  60.76922786,  59.8718284 ,\n",
       "        95.83341793,  81.68205735,  80.26027412,  78.7662459 ,\n",
       "        70.33224654,  79.89744383,  47.87144403,  61.0022049 ,\n",
       "        58.7955614 ,  62.16087853,  64.21234462,  72.9817207 ,\n",
       "        84.20981763,  90.82102381,  70.2723818 ,  60.70085843,\n",
       "        63.08196812,  48.85939443,  85.29878677,  73.79095829,\n",
       "        74.56370021,  53.41657189,  97.86644876,  47.5589819 ,\n",
       "        47.84396832,  86.15974972,  43.28747806,  48.39959288,\n",
       "        83.08758052,  51.86644401,  58.92085191,  77.08775126,\n",
       "        80.9262642 ,  84.8772942 ,  71.46088184,  68.68191972,\n",
       "        87.89317529,  85.82693563,  69.58449278,  55.46166192,\n",
       "        91.41866657,  80.51306573,  60.61730356,  57.3995348 ,\n",
       "        43.08128953,  40.42367599,  69.46954239,  57.00410652,\n",
       "        47.72901793,  64.0061561 ,  90.63772611,  78.04906787,\n",
       "        61.2232963 ,  91.1435199 ,  87.99473142,  50.43781943,\n",
       "        93.70989531,  90.49447859,  68.8332845 ,  69.75747248,\n",
       "        39.2726635 ,  91.76810261,  72.59517815,  63.07167225,\n",
       "        62.12948301,  42.12012764,  49.51363146,  42.04522743,\n",
       "        61.43978069,  74.1120972 ,  62.88835243,  63.07167225,\n",
       "        70.8861299 ,  62.84748246,  74.72328565,  93.59358774,\n",
       "        41.37465248,  51.96341527,  77.33053102,  81.27570024,\n",
       "        66.54733276,  91.09752766,  55.81680895,  73.82280993,\n",
       "        81.48708448,  61.23669055,  59.71974938,  77.59753831,\n",
       "        83.12407619,  59.89930411,  58.47442249,  60.33231714,\n",
       "        67.09988106,  74.72328565,  65.28861162,  72.29383168,\n",
       "        80.5628965 ,  67.45812648,  47.01101848,  61.95469001,\n",
       "        53.41657189,  71.79569903,  54.42078235,  63.40312916,\n",
       "        53.62358183,  88.45911785,  39.55375223,  53.40709744,\n",
       "        42.76322688,  95.258666  ,  56.4873839 ,  87.53882755,\n",
       "        68.47060892,  71.9623969 ,  73.28124469,  66.69697846,\n",
       "        62.27582892,  75.63933424,  49.51363146,  77.62419423,\n",
       "        63.54179179,  70.09420638,  66.63549464,  72.21380919,\n",
       "        74.56370021,  61.92329449,  50.24796884,  51.63195836,\n",
       "        59.95999027,  89.89683583,  48.28464249,  57.75642304,\n",
       "        53.67018491,  49.92682992,  69.253058  ,  82.91788767,\n",
       "        76.85785049,  67.55794141,  60.98571225,  70.83373948,\n",
       "        55.84174579,  81.37725637,  47.72901793,  87.18939151,\n",
       "        52.49750619,  91.09752766,  57.50854313,  69.94732308,\n",
       "        43.89360338,  57.76676316,  56.58437728,  84.25964841,\n",
       "        70.65502666,  43.08128953,  75.07978986,  67.4447101 ])"
      ]
     },
     "execution_count": 59,
     "metadata": {},
     "output_type": "execute_result"
    }
   ],
   "source": [
    "y_pred"
   ]
  },
  {
   "cell_type": "code",
   "execution_count": 60,
   "metadata": {},
   "outputs": [
    {
     "data": {
      "text/plain": [
       "0.9458572792229673"
      ]
     },
     "execution_count": 60,
     "metadata": {},
     "output_type": "execute_result"
    }
   ],
   "source": [
    "r2_score(y_pred,y_test)"
   ]
  },
  {
   "cell_type": "code",
   "execution_count": 61,
   "metadata": {},
   "outputs": [
    {
     "data": {
      "text/plain": [
       "2.5792036593421273"
      ]
     },
     "execution_count": 61,
     "metadata": {},
     "output_type": "execute_result"
    }
   ],
   "source": [
    "mean_absolute_error(y_pred,y_test)"
   ]
  },
  {
   "cell_type": "code",
   "execution_count": 62,
   "metadata": {},
   "outputs": [
    {
     "data": {
      "text/plain": [
       "10.282643517932991"
      ]
     },
     "execution_count": 62,
     "metadata": {},
     "output_type": "execute_result"
    }
   ],
   "source": [
    "mean_squared_error(y_pred,y_test)"
   ]
  },
  {
   "cell_type": "code",
   "execution_count": 63,
   "metadata": {},
   "outputs": [
    {
     "data": {
      "text/plain": [
       "array([0.82497152, 0.93496395, 0.95821224, 0.91449347, 0.93989851])"
      ]
     },
     "execution_count": 63,
     "metadata": {},
     "output_type": "execute_result"
    }
   ],
   "source": [
    "cross_val_score(lr,X,y,cv=5)"
   ]
  },
  {
   "cell_type": "code",
   "execution_count": 65,
   "metadata": {},
   "outputs": [
    {
     "name": "stdout",
     "output_type": "stream",
     "text": [
      "Accuracy using Linear Regression : 95.0\n"
     ]
    }
   ],
   "source": [
    "print(\"Accuracy using Linear Regression :\", round(r2_score(y_pred,y_test),2)*100)"
   ]
  },
  {
   "cell_type": "markdown",
   "metadata": {},
   "source": [
    "## Ridge"
   ]
  },
  {
   "cell_type": "code",
   "execution_count": 66,
   "metadata": {},
   "outputs": [],
   "source": [
    "ri=Ridge()"
   ]
  },
  {
   "cell_type": "code",
   "execution_count": 69,
   "metadata": {},
   "outputs": [],
   "source": [
    "from sklearn.model_selection import GridSearchCV\n",
    "param={'alpha':[0,1,2,3,5,10,20,25,50,70,100]}\n",
    "model=GridSearchCV(ri,param,scoring='r2',cv=5)"
   ]
  },
  {
   "cell_type": "code",
   "execution_count": 70,
   "metadata": {},
   "outputs": [
    {
     "data": {
      "text/plain": [
       "GridSearchCV(cv=5, estimator=Ridge(),\n",
       "             param_grid={'alpha': [0, 1, 2, 3, 5, 10, 20, 25, 50, 70, 100]},\n",
       "             scoring='r2')"
      ]
     },
     "execution_count": 70,
     "metadata": {},
     "output_type": "execute_result"
    }
   ],
   "source": [
    "model"
   ]
  },
  {
   "cell_type": "markdown",
   "metadata": {},
   "source": [
    "model.fit(X,y)"
   ]
  },
  {
   "cell_type": "code",
   "execution_count": 72,
   "metadata": {},
   "outputs": [
    {
     "data": {
      "text/plain": [
       "{'alpha': 10}"
      ]
     },
     "execution_count": 72,
     "metadata": {},
     "output_type": "execute_result"
    }
   ],
   "source": [
    "model.best_params_"
   ]
  },
  {
   "cell_type": "code",
   "execution_count": 73,
   "metadata": {},
   "outputs": [
    {
     "data": {
      "text/plain": [
       "0.9146148363490674"
      ]
     },
     "execution_count": 73,
     "metadata": {},
     "output_type": "execute_result"
    }
   ],
   "source": [
    "model.best_score_"
   ]
  },
  {
   "cell_type": "code",
   "execution_count": 79,
   "metadata": {},
   "outputs": [
    {
     "name": "stdout",
     "output_type": "stream",
     "text": [
      "Accuracy using Ridge Regression : 0.9146148363490674\n"
     ]
    }
   ],
   "source": [
    "print(\"Accuracy using Ridge Regression :\", model.best_score_)"
   ]
  },
  {
   "cell_type": "code",
   "execution_count": 80,
   "metadata": {},
   "outputs": [],
   "source": [
    "la=Lasso()\n",
    "lasso=GridSearchCV(la,param,scoring='r2',cv=5)"
   ]
  },
  {
   "cell_type": "code",
   "execution_count": 81,
   "metadata": {},
   "outputs": [
    {
     "name": "stderr",
     "output_type": "stream",
     "text": [
      "C:\\Users\\AJAY SINGH\\anaconda3\\lib\\site-packages\\sklearn\\model_selection\\_validation.py:531: UserWarning: With alpha=0, this algorithm does not converge well. You are advised to use the LinearRegression estimator\n",
      "  estimator.fit(X_train, y_train, **fit_params)\n",
      "C:\\Users\\AJAY SINGH\\anaconda3\\lib\\site-packages\\sklearn\\linear_model\\_coordinate_descent.py:529: UserWarning: Coordinate descent with no regularization may lead to unexpected results and is discouraged.\n",
      "  model = cd_fast.enet_coordinate_descent(\n",
      "C:\\Users\\AJAY SINGH\\anaconda3\\lib\\site-packages\\sklearn\\linear_model\\_coordinate_descent.py:529: ConvergenceWarning: Objective did not converge. You might want to increase the number of iterations. Duality gap: 8747.760705963945, tolerance: 38.09932268464243\n",
      "  model = cd_fast.enet_coordinate_descent(\n",
      "C:\\Users\\AJAY SINGH\\anaconda3\\lib\\site-packages\\sklearn\\model_selection\\_validation.py:531: UserWarning: With alpha=0, this algorithm does not converge well. You are advised to use the LinearRegression estimator\n",
      "  estimator.fit(X_train, y_train, **fit_params)\n",
      "C:\\Users\\AJAY SINGH\\anaconda3\\lib\\site-packages\\sklearn\\linear_model\\_coordinate_descent.py:529: UserWarning: Coordinate descent with no regularization may lead to unexpected results and is discouraged.\n",
      "  model = cd_fast.enet_coordinate_descent(\n",
      "C:\\Users\\AJAY SINGH\\anaconda3\\lib\\site-packages\\sklearn\\linear_model\\_coordinate_descent.py:529: ConvergenceWarning: Objective did not converge. You might want to increase the number of iterations. Duality gap: 8820.59746147263, tolerance: 33.29497895662368\n",
      "  model = cd_fast.enet_coordinate_descent(\n",
      "C:\\Users\\AJAY SINGH\\anaconda3\\lib\\site-packages\\sklearn\\model_selection\\_validation.py:531: UserWarning: With alpha=0, this algorithm does not converge well. You are advised to use the LinearRegression estimator\n",
      "  estimator.fit(X_train, y_train, **fit_params)\n",
      "C:\\Users\\AJAY SINGH\\anaconda3\\lib\\site-packages\\sklearn\\linear_model\\_coordinate_descent.py:529: UserWarning: Coordinate descent with no regularization may lead to unexpected results and is discouraged.\n",
      "  model = cd_fast.enet_coordinate_descent(\n",
      "C:\\Users\\AJAY SINGH\\anaconda3\\lib\\site-packages\\sklearn\\linear_model\\_coordinate_descent.py:529: ConvergenceWarning: Objective did not converge. You might want to increase the number of iterations. Duality gap: 8866.9439526192, tolerance: 30.970011019929665\n",
      "  model = cd_fast.enet_coordinate_descent(\n",
      "C:\\Users\\AJAY SINGH\\anaconda3\\lib\\site-packages\\sklearn\\model_selection\\_validation.py:531: UserWarning: With alpha=0, this algorithm does not converge well. You are advised to use the LinearRegression estimator\n",
      "  estimator.fit(X_train, y_train, **fit_params)\n",
      "C:\\Users\\AJAY SINGH\\anaconda3\\lib\\site-packages\\sklearn\\linear_model\\_coordinate_descent.py:529: UserWarning: Coordinate descent with no regularization may lead to unexpected results and is discouraged.\n",
      "  model = cd_fast.enet_coordinate_descent(\n",
      "C:\\Users\\AJAY SINGH\\anaconda3\\lib\\site-packages\\sklearn\\linear_model\\_coordinate_descent.py:529: ConvergenceWarning: Objective did not converge. You might want to increase the number of iterations. Duality gap: 8756.01899370546, tolerance: 30.32110474516696\n",
      "  model = cd_fast.enet_coordinate_descent(\n",
      "C:\\Users\\AJAY SINGH\\anaconda3\\lib\\site-packages\\sklearn\\model_selection\\_validation.py:531: UserWarning: With alpha=0, this algorithm does not converge well. You are advised to use the LinearRegression estimator\n",
      "  estimator.fit(X_train, y_train, **fit_params)\n",
      "C:\\Users\\AJAY SINGH\\anaconda3\\lib\\site-packages\\sklearn\\linear_model\\_coordinate_descent.py:529: UserWarning: Coordinate descent with no regularization may lead to unexpected results and is discouraged.\n",
      "  model = cd_fast.enet_coordinate_descent(\n",
      "C:\\Users\\AJAY SINGH\\anaconda3\\lib\\site-packages\\sklearn\\linear_model\\_coordinate_descent.py:529: ConvergenceWarning: Objective did not converge. You might want to increase the number of iterations. Duality gap: 8892.173740780154, tolerance: 31.853267838312828\n",
      "  model = cd_fast.enet_coordinate_descent(\n",
      "C:\\Users\\AJAY SINGH\\anaconda3\\lib\\site-packages\\sklearn\\model_selection\\_search.py:765: UserWarning: With alpha=0, this algorithm does not converge well. You are advised to use the LinearRegression estimator\n",
      "  self.best_estimator_.fit(X, y, **fit_params)\n",
      "C:\\Users\\AJAY SINGH\\anaconda3\\lib\\site-packages\\sklearn\\linear_model\\_coordinate_descent.py:529: UserWarning: Coordinate descent with no regularization may lead to unexpected results and is discouraged.\n",
      "  model = cd_fast.enet_coordinate_descent(\n",
      "C:\\Users\\AJAY SINGH\\anaconda3\\lib\\site-packages\\sklearn\\linear_model\\_coordinate_descent.py:529: ConvergenceWarning: Objective did not converge. You might want to increase the number of iterations. Duality gap: 11035.592294463413, tolerance: 41.708371964369434\n",
      "  model = cd_fast.enet_coordinate_descent(\n"
     ]
    },
    {
     "data": {
      "text/plain": [
       "GridSearchCV(cv=5, estimator=Lasso(),\n",
       "             param_grid={'alpha': [0, 1, 2, 3, 5, 10, 20, 25, 50, 70, 100]},\n",
       "             scoring='r2')"
      ]
     },
     "execution_count": 81,
     "metadata": {},
     "output_type": "execute_result"
    }
   ],
   "source": [
    "lasso.fit(X,y)"
   ]
  },
  {
   "cell_type": "code",
   "execution_count": 82,
   "metadata": {},
   "outputs": [
    {
     "data": {
      "text/plain": [
       "{'alpha': 0}"
      ]
     },
     "execution_count": 82,
     "metadata": {},
     "output_type": "execute_result"
    }
   ],
   "source": [
    "lasso.best_params_"
   ]
  },
  {
   "cell_type": "code",
   "execution_count": 83,
   "metadata": {},
   "outputs": [
    {
     "data": {
      "text/plain": [
       "0.9145079382162173"
      ]
     },
     "execution_count": 83,
     "metadata": {},
     "output_type": "execute_result"
    }
   ],
   "source": [
    "lasso.best_score_"
   ]
  },
  {
   "cell_type": "code",
   "execution_count": 84,
   "metadata": {},
   "outputs": [
    {
     "name": "stdout",
     "output_type": "stream",
     "text": [
      "Accuracy using Ridge Regression : 0.9145079382162173\n"
     ]
    }
   ],
   "source": [
    "print(\"Accuracy using Ridge Regression :\", lasso.best_score_)"
   ]
  },
  {
   "cell_type": "code",
   "execution_count": null,
   "metadata": {},
   "outputs": [],
   "source": []
  }
 ],
 "metadata": {
  "kernelspec": {
   "display_name": "Python 3",
   "language": "python",
   "name": "python3"
  },
  "language_info": {
   "codemirror_mode": {
    "name": "ipython",
    "version": 3
   },
   "file_extension": ".py",
   "mimetype": "text/x-python",
   "name": "python",
   "nbconvert_exporter": "python",
   "pygments_lexer": "ipython3",
   "version": "3.8.3"
  }
 },
 "nbformat": 4,
 "nbformat_minor": 4
}
